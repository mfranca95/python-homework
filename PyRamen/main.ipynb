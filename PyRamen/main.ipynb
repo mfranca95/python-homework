{
 "cells": [
  {
   "cell_type": "code",
   "execution_count": 29,
   "metadata": {},
   "outputs": [
    {
     "name": "stdout",
     "output_type": "stream",
     "text": [
      "{'edamame': {'01-count': 0, '02-revenue': 0, '03-cogs': 0, '04-profit': 0}, 'house salad': {'01-count': 0, '02-revenue': 0, '03-cogs': 0, '04-profit': 0}, 'cucumber sunomono salad': {'01-count': 0, '02-revenue': 0, '03-cogs': 0, '04-profit': 0}, 'hiyashi wakame seaweed salad': {'01-count': 0, '02-revenue': 0, '03-cogs': 0, '04-profit': 0}, 'agedashi tofu': {'01-count': 0, '02-revenue': 0, '03-cogs': 0, '04-profit': 0}, 'hiyayakko tofu': {'01-count': 0, '02-revenue': 0, '03-cogs': 0, '04-profit': 0}, 'pork floss bao': {'01-count': 0, '02-revenue': 0, '03-cogs': 0, '04-profit': 0}, 'kakuni bao': {'01-count': 0, '02-revenue': 0, '03-cogs': 0, '04-profit': 0}, 'edamame fried gyoza (vegan)': {'01-count': 0, '02-revenue': 0, '03-cogs': 0, '04-profit': 0}, 'fried gyoza': {'01-count': 0, '02-revenue': 0, '03-cogs': 0, '04-profit': 0}, 'takoyaki': {'01-count': 0, '02-revenue': 0, '03-cogs': 0, '04-profit': 0}, 'rock shrimp tempura': {'01-count': 0, '02-revenue': 0, '03-cogs': 0, '04-profit': 0}, 'soft-shell crab tempura': {'01-count': 0, '02-revenue': 0, '03-cogs': 0, '04-profit': 0}, 'ebi katsu shrimp bao': {'01-count': 0, '02-revenue': 0, '03-cogs': 0, '04-profit': 0}, 'nagomi shoyu': {'01-count': 9132, '02-revenue': 100452.0, '03-cogs': 45660.0, '04-profit': 54792.0}, 'shio ramen': {'01-count': 9180, '02-revenue': 100980.0, '03-cogs': 45900.0, '04-profit': 55080.0}, 'spicy miso ramen': {'01-count': 9238, '02-revenue': 110856.0, '03-cogs': 46190.0, '04-profit': 64666.0}, 'vegetarian spicy miso': {'01-count': 9216, '02-revenue': 110592.0, '03-cogs': 46080.0, '04-profit': 64512.0}, 'miso crab ramen': {'01-count': 8890, '02-revenue': 106680.0, '03-cogs': 53340.0, '04-profit': 53340.0}, 'soft-shell miso crab ramen': {'01-count': 9130, '02-revenue': 127820.0, '03-cogs': 63910.0, '04-profit': 63910.0}, 'tori paitan ramen': {'01-count': 9156, '02-revenue': 119028.0, '03-cogs': 54936.0, '04-profit': 64092.0}, 'tonkotsu ramen': {'01-count': 9288, '02-revenue': 120744.0, '03-cogs': 55728.0, '04-profit': 65016.0}, 'burnt garlic tonkotsu ramen': {'01-count': 9070, '02-revenue': 126980.0, '03-cogs': 54420.0, '04-profit': 72560.0}, 'vegetarian curry + king trumpet mushroom ramen': {'01-count': 8824, '02-revenue': 114712.0, '03-cogs': 61768.0, '04-profit': 52944.0}, 'truffle butter ramen': {'01-count': 8982, '02-revenue': 125748.0, '03-cogs': 62874.0, '04-profit': 62874.0}, 'green tea': {'01-count': 0, '02-revenue': 0, '03-cogs': 0, '04-profit': 0}, 'coke': {'01-count': 0, '02-revenue': 0, '03-cogs': 0, '04-profit': 0}, 'black sesame ice cream': {'01-count': 0, '02-revenue': 0, '03-cogs': 0, '04-profit': 0}, 'matcha ice cream': {'01-count': 0, '02-revenue': 0, '03-cogs': 0, '04-profit': 0}, 'mango mochi ice cream': {'01-count': 0, '02-revenue': 0, '03-cogs': 0, '04-profit': 0}, 'strawberry mochi ice cream': {'01-count': 0, '02-revenue': 0, '03-cogs': 0, '04-profit': 0}, 'black sesame creme brulee': {'01-count': 0, '02-revenue': 0, '03-cogs': 0, '04-profit': 0}}\n"
     ]
    },
    {
     "ename": "TypeError",
     "evalue": "string indices must be integers",
     "output_type": "error",
     "traceback": [
      "\u001b[1;31m---------------------------------------------------------------------------\u001b[0m",
      "\u001b[1;31mTypeError\u001b[0m                                 Traceback (most recent call last)",
      "Cell \u001b[1;32mIn[29], line 63\u001b[0m\n\u001b[0;32m     61\u001b[0m txt_file\u001b[39m.\u001b[39mwrite(\u001b[39m\"\u001b[39m\u001b[39m************** All Times Sales Analysis **************\u001b[39m\u001b[39m\\n\u001b[39;00m\u001b[39m\\n\u001b[39;00m\u001b[39m\"\u001b[39m)\n\u001b[0;32m     62\u001b[0m \u001b[39mfor\u001b[39;00m writer \u001b[39min\u001b[39;00m report:\n\u001b[1;32m---> 63\u001b[0m     x \u001b[39m=\u001b[39m \u001b[39mint\u001b[39m(writer[\u001b[39m'\u001b[39;49m\u001b[39m01-count\u001b[39;49m\u001b[39m'\u001b[39;49m])\n\u001b[0;32m     64\u001b[0m     \u001b[39mif\u001b[39;00m x \u001b[39m==\u001b[39m \u001b[39m0\u001b[39m:\n\u001b[0;32m     65\u001b[0m         txt_file\u001b[39m.\u001b[39mwrite(\u001b[39mf\u001b[39m\u001b[39m\"\u001b[39m\u001b[39mNo sales reported for \u001b[39m\u001b[39m{\u001b[39;00mwriter\u001b[39m}\u001b[39;00m\u001b[39m, consider removing it from the menu. \u001b[39m\u001b[39m\\n\u001b[39;00m\u001b[39m\\n\u001b[39;00m\u001b[39m\"\u001b[39m)\n",
      "\u001b[1;31mTypeError\u001b[0m: string indices must be integers"
     ]
    }
   ],
   "source": [
    "from pathlib import Path\n",
    "import csv\n",
    "\n",
    "## Initializing variables\n",
    "\n",
    "menu_list = []\n",
    "sales_list = []\n",
    "product_report = {\n",
    "    \"01-count\": 0,\n",
    "    \"02-revenue\": 0,\n",
    "    \"03-cogs\": 0,\n",
    "    \"04-profit\": 0,\n",
    "}\n",
    "report = {}\n",
    "\n",
    "\n",
    "## Logic for data reading\n",
    "\n",
    "with open('Resources/menu_data.csv', 'r') as menu_csv:\n",
    "    menu = csv.reader(menu_csv)\n",
    "    next(menu)\n",
    "    for item in menu:\n",
    "        menu_list.append(item)\n",
    "\n",
    "with open('Resources/sales_data.csv', 'r') as sales_csv:\n",
    "    sales = csv.reader(sales_csv)\n",
    "    next(sales)\n",
    "    x = 0\n",
    "    for money in sales:\n",
    "        sales_list.append(money)\n",
    "        sales_list[x][3] = int(sales_list[x][3])\n",
    "\n",
    "\n",
    "\n",
    "## Logic for Data manipulation\n",
    "\n",
    "for looper in menu_list:\n",
    "    report[looper[0]] = {\"01-count\": 0,\"02-revenue\": 0,\"03-cogs\": 0,\"04-profit\": 0}\n",
    "    x = 0\n",
    "    y = 0\n",
    "    z = 0\n",
    "    for inner in sales_list:\n",
    "        if looper[0] == inner[4]:\n",
    "            inner[3] = int(inner[3])\n",
    "            x = inner[3]\n",
    "            report[looper[0]]['01-count'] += x\n",
    "            y = looper[3]\n",
    "            y = float(y)\n",
    "            z = looper[4]\n",
    "            z = float(z)\n",
    "            y = y*x\n",
    "            z = z*x\n",
    "            report[looper[0]]['02-revenue'] += y\n",
    "            report[looper[0]]['03-cogs'] += z\n",
    "            report[looper[0]]['04-profit'] += (y - z)\n",
    "print (report)\n",
    "\n",
    "output_file = Path('Analysis/final_analysis.txt')\n",
    "\n",
    "with open(output_file, 'w') as txt_file:\n",
    "    txt_file.write(\"************** All Times Sales Analysis **************\\n\\n\")\n",
    "    for writer in report:\n",
    "        x = int(writer['01-count'])\n",
    "        if x == 0:\n",
    "            txt_file.write(f\"No sales reported for {writer}, consider removing it from the menu. \\n\\n\")\n",
    "        else:\n",
    "            txt_file.write(f\"Report for {writer[0]}:\\n\")\n",
    "            txt_file.write(f\"Number of units sold: {writer['01-count']}:\\n\")\n",
    "            txt_file.write(f\"All time revenue: {writer['02-revenue']}:\\n\")\n",
    "            txt_file.write(f\"All time cost: {writer['03-cogs']}:\\n\")\n",
    "            txt_file.write(f\"Final profit: {writer['04-profit']}:\\n\\n\")\n"
   ]
  }
 ],
 "metadata": {
  "kernelspec": {
   "display_name": "dev",
   "language": "python",
   "name": "python3"
  },
  "language_info": {
   "codemirror_mode": {
    "name": "ipython",
    "version": 3
   },
   "file_extension": ".py",
   "mimetype": "text/x-python",
   "name": "python",
   "nbconvert_exporter": "python",
   "pygments_lexer": "ipython3",
   "version": "3.10.12"
  },
  "orig_nbformat": 4
 },
 "nbformat": 4,
 "nbformat_minor": 2
}
