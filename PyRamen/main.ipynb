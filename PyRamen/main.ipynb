{
 "cells": [
  {
   "cell_type": "code",
   "execution_count": 1,
   "metadata": {},
   "outputs": [
    {
     "name": "stdout",
     "output_type": "stream",
     "text": [
      "{'edamame': {'01-count': 0, '02-revenue': 0, '03-cogs': 0, '04-profit': 0}, 'house salad': {'01-count': 0, '02-revenue': 0, '03-cogs': 0, '04-profit': 0}, 'cucumber sunomono salad': {'01-count': 0, '02-revenue': 0, '03-cogs': 0, '04-profit': 0}, 'hiyashi wakame seaweed salad': {'01-count': 0, '02-revenue': 0, '03-cogs': 0, '04-profit': 0}, 'agedashi tofu': {'01-count': 0, '02-revenue': 0, '03-cogs': 0, '04-profit': 0}, 'hiyayakko tofu': {'01-count': 0, '02-revenue': 0, '03-cogs': 0, '04-profit': 0}, 'pork floss bao': {'01-count': 0, '02-revenue': 0, '03-cogs': 0, '04-profit': 0}, 'kakuni bao': {'01-count': 0, '02-revenue': 0, '03-cogs': 0, '04-profit': 0}, 'edamame fried gyoza (vegan)': {'01-count': 0, '02-revenue': 0, '03-cogs': 0, '04-profit': 0}, 'fried gyoza': {'01-count': 0, '02-revenue': 0, '03-cogs': 0, '04-profit': 0}, 'takoyaki': {'01-count': 0, '02-revenue': 0, '03-cogs': 0, '04-profit': 0}, 'rock shrimp tempura': {'01-count': 0, '02-revenue': 0, '03-cogs': 0, '04-profit': 0}, 'soft-shell crab tempura': {'01-count': 0, '02-revenue': 0, '03-cogs': 0, '04-profit': 0}, 'ebi katsu shrimp bao': {'01-count': 0, '02-revenue': 0, '03-cogs': 0, '04-profit': 0}, 'nagomi shoyu': {'01-count': 9132, '02-revenue': 0, '03-cogs': 0, '04-profit': 0}, 'shio ramen': {'01-count': 9180, '02-revenue': 0, '03-cogs': 0, '04-profit': 0}, 'spicy miso ramen': {'01-count': 9238, '02-revenue': 0, '03-cogs': 0, '04-profit': 0}, 'vegetarian spicy miso': {'01-count': 9216, '02-revenue': 0, '03-cogs': 0, '04-profit': 0}, 'miso crab ramen': {'01-count': 8890, '02-revenue': 0, '03-cogs': 0, '04-profit': 0}, 'soft-shell miso crab ramen': {'01-count': 9130, '02-revenue': 0, '03-cogs': 0, '04-profit': 0}, 'tori paitan ramen': {'01-count': 9156, '02-revenue': 0, '03-cogs': 0, '04-profit': 0}, 'tonkotsu ramen': {'01-count': 9288, '02-revenue': 0, '03-cogs': 0, '04-profit': 0}, 'burnt garlic tonkotsu ramen': {'01-count': 9070, '02-revenue': 0, '03-cogs': 0, '04-profit': 0}, 'vegetarian curry + king trumpet mushroom ramen': {'01-count': 8824, '02-revenue': 0, '03-cogs': 0, '04-profit': 0}, 'truffle butter ramen': {'01-count': 8982, '02-revenue': 0, '03-cogs': 0, '04-profit': 0}, 'green tea': {'01-count': 0, '02-revenue': 0, '03-cogs': 0, '04-profit': 0}, 'coke': {'01-count': 0, '02-revenue': 0, '03-cogs': 0, '04-profit': 0}, 'black sesame ice cream': {'01-count': 0, '02-revenue': 0, '03-cogs': 0, '04-profit': 0}, 'matcha ice cream': {'01-count': 0, '02-revenue': 0, '03-cogs': 0, '04-profit': 0}, 'mango mochi ice cream': {'01-count': 0, '02-revenue': 0, '03-cogs': 0, '04-profit': 0}, 'strawberry mochi ice cream': {'01-count': 0, '02-revenue': 0, '03-cogs': 0, '04-profit': 0}, 'black sesame creme brulee': {'01-count': 0, '02-revenue': 0, '03-cogs': 0, '04-profit': 0}}\n"
     ]
    }
   ],
   "source": [
    "from pathlib import Path\n",
    "import csv\n",
    "\n",
    "## Initializing variables\n",
    "\n",
    "menu_list = []\n",
    "sales_list = []\n",
    "product_report = {\n",
    "    \"01-count\": 0,\n",
    "    \"02-revenue\": 0,\n",
    "    \"03-cogs\": 0,\n",
    "    \"04-profit\": 0,\n",
    "}\n",
    "report = {}\n",
    "\n",
    "\n",
    "## Logic for data reading\n",
    "\n",
    "with open('Resources/menu_data.csv', 'r') as menu_csv:\n",
    "    menu = csv.reader(menu_csv)\n",
    "    next(menu)\n",
    "    for item in menu:\n",
    "        menu_list.append(item)\n",
    "\n",
    "with open('Resources/sales_data.csv', 'r') as sales_csv:\n",
    "    sales = csv.reader(sales_csv)\n",
    "    next(sales)\n",
    "    x = 0\n",
    "    for money in sales:\n",
    "        sales_list.append(money)\n",
    "        sales_list[x][3] = int(sales_list[x][3])\n",
    "\n",
    "\n",
    "\n",
    "## Logic for Data manipulation\n",
    "\n",
    "for looper in menu_list:\n",
    "    report[looper[0]] = {\"01-count\": 0,\"02-revenue\": 0,\"03-cogs\": 0,\"04-profit\": 0}\n",
    "    x = 0\n",
    "    y = 0\n",
    "    for inner in sales_list:\n",
    "        if looper[0] == inner[4]:\n",
    "            inner[3] = int(inner[3])\n",
    "            x = inner[3]\n",
    "            report[looper[0]]['01-count'] += x\n",
    "    y = y + 1\n",
    "print (report)\n",
    "\n"
   ]
  }
 ],
 "metadata": {
  "kernelspec": {
   "display_name": "dev",
   "language": "python",
   "name": "python3"
  },
  "language_info": {
   "codemirror_mode": {
    "name": "ipython",
    "version": 3
   },
   "file_extension": ".py",
   "mimetype": "text/x-python",
   "name": "python",
   "nbconvert_exporter": "python",
   "pygments_lexer": "ipython3",
   "version": "3.10.12"
  },
  "orig_nbformat": 4
 },
 "nbformat": 4,
 "nbformat_minor": 2
}
