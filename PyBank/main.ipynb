{
 "cells": [
  {
   "cell_type": "code",
   "execution_count": 3,
   "metadata": {},
   "outputs": [
    {
     "name": "stdout",
     "output_type": "stream",
     "text": [
      "************** Financial Analysis **************\n",
      "Total Months: 86\n",
      "Net Total amount: $38382578\n",
      "Average Change: $-7803.48\n",
      "Greatest Increase in Profits: Feb-2012 $1170593\n",
      "Greatest Decrease in Profits: Sep-2013 $-1196225\n"
     ]
    }
   ],
   "source": [
    "from pathlib import Path\n",
    "import csv\n",
    "\n",
    "## Initializing variables\n",
    "\n",
    "months = 0\n",
    "net_total = 0\n",
    "pre_month = 0\n",
    "curr_month = 0\n",
    "change_total = 0\n",
    "average_change = 0\n",
    "greatest_increase = [\"\",0]\n",
    "greatest_decrease = [\"\",0]\n",
    "\n",
    "## Running analysis of data set\n",
    "\n",
    "with open('Resources/budget_data.csv', 'r') as file:\n",
    "\n",
    "    csv_budget = csv.reader(file)\n",
    "    next(csv_budget)\n",
    "\n",
    "    for data in csv_budget:\n",
    "        months = months + 1\n",
    "        data[1] = int(data[1])\n",
    "        #---------------------------\n",
    "        net_total = net_total + data[1]\n",
    "        #---------------------------\n",
    "        curr_month = data[1]\n",
    "        change = pre_month - curr_month\n",
    "        pre_month = curr_month\n",
    "        change_total = change + change_total\n",
    "        #---------------------------\n",
    "        if data[1] > greatest_increase[1]:\n",
    "            greatest_increase = data\n",
    "        if data[1] < greatest_decrease[1]:\n",
    "            greatest_decrease = data\n",
    "\n",
    "    average_change = change_total / months\n",
    "\n",
    "    print (\"************** Financial Analysis **************\")\n",
    "    print (f\"Total Months: {months}\")\n",
    "    print (f\"Net Total amount: ${net_total}\")\n",
    "    print (f\"Average Change: ${average_change: .2f}\")\n",
    "    print (f\"Greatest Increase in Profits: {greatest_increase[0]} ${greatest_increase[1]}\")\n",
    "    print (f\"Greatest Decrease in Profits: {greatest_decrease[0]} ${greatest_decrease[1]}\")\n",
    "\n",
    "output_file = Path('Analysis/final_analysis.txt')\n",
    "\n",
    "with open(output_file, 'w') as txt_file:\n",
    "    txt_file.write(\"************** Financial Analysis **************\\n\")\n",
    "    txt_file.write(f\"Total Months: {months}\\n\")\n",
    "    txt_file.write(f\"Net Total amount: ${net_total}\\n\")\n",
    "    txt_file.write(f\"Average Change: ${average_change: .2f}\\n\")\n",
    "    txt_file.write(f\"Greatest Increase in Profits: {greatest_increase[0]} ${greatest_increase[1]}\\n\")\n",
    "    txt_file.write(f\"Greatest Decrease in Profits: {greatest_decrease[0]} ${greatest_decrease[1]}\\n\")\n",
    "\n"
   ]
  }
 ],
 "metadata": {
  "kernelspec": {
   "display_name": "dev",
   "language": "python",
   "name": "python3"
  },
  "language_info": {
   "codemirror_mode": {
    "name": "ipython",
    "version": 3
   },
   "file_extension": ".py",
   "mimetype": "text/x-python",
   "name": "python",
   "nbconvert_exporter": "python",
   "pygments_lexer": "ipython3",
   "version": "3.10.12"
  },
  "orig_nbformat": 4
 },
 "nbformat": 4,
 "nbformat_minor": 2
}
