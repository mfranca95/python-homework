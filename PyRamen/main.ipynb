{
 "cells": [
  {
   "cell_type": "code",
   "execution_count": 13,
   "metadata": {},
   "outputs": [
    {
     "name": "stdout",
     "output_type": "stream",
     "text": [
      "['edamame', 'appetizers', 'boiled soybeans, maldon sea salt', '4', '1']\n"
     ]
    },
    {
     "ename": "TypeError",
     "evalue": "'builtin_function_or_method' object is not subscriptable",
     "output_type": "error",
     "traceback": [
      "\u001b[1;31m---------------------------------------------------------------------------\u001b[0m",
      "\u001b[1;31mTypeError\u001b[0m                                 Traceback (most recent call last)",
      "Cell \u001b[1;32mIn[13], line 35\u001b[0m\n\u001b[0;32m     33\u001b[0m \u001b[39mfor\u001b[39;00m looper \u001b[39min\u001b[39;00m menu_list:\n\u001b[0;32m     34\u001b[0m     \u001b[39mprint\u001b[39m(looper)\n\u001b[1;32m---> 35\u001b[0m     report\u001b[39m.\u001b[39;49mappend[{looper[\u001b[39m0\u001b[39;49m]:{\u001b[39m\"\u001b[39;49m\u001b[39m01-count\u001b[39;49m\u001b[39m\"\u001b[39;49m: \u001b[39m0\u001b[39;49m,\u001b[39m\"\u001b[39;49m\u001b[39m02-revenue\u001b[39;49m\u001b[39m\"\u001b[39;49m: \u001b[39m0\u001b[39;49m,\u001b[39m\"\u001b[39;49m\u001b[39m03-cogs\u001b[39;49m\u001b[39m\"\u001b[39;49m: \u001b[39m0\u001b[39;49m,\u001b[39m\"\u001b[39;49m\u001b[39m04-profit\u001b[39;49m\u001b[39m\"\u001b[39;49m: \u001b[39m0\u001b[39;49m,}}]\n\u001b[0;32m     37\u001b[0m \u001b[39mprint\u001b[39m(report)\n",
      "\u001b[1;31mTypeError\u001b[0m: 'builtin_function_or_method' object is not subscriptable"
     ]
    }
   ],
   "source": [
    "import csv\n",
    "\n",
    "## Initializing variables\n",
    "\n",
    "menu_list = []\n",
    "sales_list = []\n",
    "product_report = {\n",
    "    \"01-count\": 0,\n",
    "    \"02-revenue\": 0,\n",
    "    \"03-cogs\": 0,\n",
    "    \"04-profit\": 0,\n",
    "}\n",
    "report = []\n",
    "\n",
    "\n",
    "\n",
    "## Logic for data reading\n",
    "\n",
    "with open('Resources/menu_data.csv', 'r') as menu_csv:\n",
    "    menu = csv.reader(menu_csv)\n",
    "    next(menu)\n",
    "    for item in menu:\n",
    "        menu_list.append(item)\n",
    "\n",
    "with open('Resources/sales_data.csv', 'r') as sales_csv:\n",
    "    sales = csv.reader(sales_csv)\n",
    "    next(sales)\n",
    "    for money in sales:\n",
    "        sales_list.append(money)\n",
    "\n",
    "## Logic for Data manipulation\n",
    "\n",
    "for looper in menu_list:\n",
    "    print(looper)\n",
    "    report.append[{looper[0]:{\"01-count\": 0,\"02-revenue\": 0,\"03-cogs\": 0,\"04-profit\": 0,}}]\n",
    "\n",
    "print(report)"
   ]
  }
 ],
 "metadata": {
  "kernelspec": {
   "display_name": "dev",
   "language": "python",
   "name": "python3"
  },
  "language_info": {
   "codemirror_mode": {
    "name": "ipython",
    "version": 3
   },
   "file_extension": ".py",
   "mimetype": "text/x-python",
   "name": "python",
   "nbconvert_exporter": "python",
   "pygments_lexer": "ipython3",
   "version": "3.10.12"
  },
  "orig_nbformat": 4
 },
 "nbformat": 4,
 "nbformat_minor": 2
}
